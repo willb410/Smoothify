{
 "cells": [
  {
   "cell_type": "code",
   "execution_count": 3,
   "metadata": {},
   "outputs": [],
   "source": [
    "import spotipy\n",
    "import spotipy.util as util\n",
    "from spotipy.oauth2 import SpotifyClientCredentials\n",
    "\n",
    "import sys\n",
    "sys.path\n",
    "sys.path.append('../')\n",
    "from connections import password, client_id, client_secret\n",
    "from song_features import feature_pull_df"
   ]
  },
  {
   "cell_type": "code",
   "execution_count": 4,
   "metadata": {},
   "outputs": [],
   "source": [
    "# Client credentials\n",
    "client_credentials_manager = SpotifyClientCredentials(\n",
    "    client_id=client_id, \n",
    "    client_secret=client_secret)\n",
    "sp = spotipy.Spotify(client_credentials_manager=client_credentials_manager)"
   ]
  },
  {
   "cell_type": "code",
   "execution_count": 27,
   "metadata": {},
   "outputs": [],
   "source": [
    "p_list = sp.search(q = 'Spotipy Test Please Work', type = 'playlist', limit = 50)\n",
    "# 'owner': {'display_name': 'Spotify'\n",
    "display_name = 'Will Bogen'\n",
    "user_id = 124278927"
   ]
  },
  {
   "cell_type": "code",
   "execution_count": 26,
   "metadata": {},
   "outputs": [
    {
     "data": {
      "text/plain": [
       "{'href': 'https://api.spotify.com/v1/users/124278927/playlists?offset=0&limit=50',\n",
       " 'items': [{'collaborative': False,\n",
       "   'external_urls': {'spotify': 'https://open.spotify.com/playlist/1y1h7MKcwl9ThHxIDcgsmw'},\n",
       "   'href': 'https://api.spotify.com/v1/playlists/1y1h7MKcwl9ThHxIDcgsmw',\n",
       "   'id': '1y1h7MKcwl9ThHxIDcgsmw',\n",
       "   'images': [{'height': 640,\n",
       "     'url': 'https://mosaic.scdn.co/640/45a964e081aa53413c6162a6d2a164a74d747cf4780c7007235453969a43be1c176ba3055aeee7469ff65a49173e00e39e1b93875c198c8af0bae3eaa2e1d24d595ae190619f8774762fe4db163b7d7c',\n",
       "     'width': 640},\n",
       "    {'height': 300,\n",
       "     'url': 'https://mosaic.scdn.co/300/45a964e081aa53413c6162a6d2a164a74d747cf4780c7007235453969a43be1c176ba3055aeee7469ff65a49173e00e39e1b93875c198c8af0bae3eaa2e1d24d595ae190619f8774762fe4db163b7d7c',\n",
       "     'width': 300},\n",
       "    {'height': 60,\n",
       "     'url': 'https://mosaic.scdn.co/60/45a964e081aa53413c6162a6d2a164a74d747cf4780c7007235453969a43be1c176ba3055aeee7469ff65a49173e00e39e1b93875c198c8af0bae3eaa2e1d24d595ae190619f8774762fe4db163b7d7c',\n",
       "     'width': 60}],\n",
       "   'name': 'Spotipy Test Please Work',\n",
       "   'owner': {'display_name': 'Will Bogen',\n",
       "    'external_urls': {'spotify': 'https://open.spotify.com/user/124278927'},\n",
       "    'href': 'https://api.spotify.com/v1/users/124278927',\n",
       "    'id': '124278927',\n",
       "    'type': 'user',\n",
       "    'uri': 'spotify:user:124278927'},\n",
       "   'primary_color': None,\n",
       "   'public': True,\n",
       "   'snapshot_id': 'OCwzYzAxNTA2ZmExMTQ5MmFjZjAwM2NiZGQ3OTNlNjc0OWM2YWVlYTZh',\n",
       "   'tracks': {'href': 'https://api.spotify.com/v1/playlists/1y1h7MKcwl9ThHxIDcgsmw/tracks',\n",
       "    'total': 7},\n",
       "   'type': 'playlist',\n",
       "   'uri': 'spotify:playlist:1y1h7MKcwl9ThHxIDcgsmw'}],\n",
       " 'limit': 50,\n",
       " 'next': None,\n",
       " 'offset': 0,\n",
       " 'previous': None,\n",
       " 'total': 1}"
      ]
     },
     "execution_count": 26,
     "metadata": {},
     "output_type": "execute_result"
    }
   ],
   "source": [
    "sp.user_playlists(user_id)"
   ]
  },
  {
   "cell_type": "code",
   "execution_count": 28,
   "metadata": {},
   "outputs": [
    {
     "data": {
      "text/plain": [
       "{'playlists': {'href': 'https://api.spotify.com/v1/search?query=Spotipy+Test+Please+Work&type=playlist&offset=0&limit=50',\n",
       "  'items': [],\n",
       "  'limit': 50,\n",
       "  'next': None,\n",
       "  'offset': 0,\n",
       "  'previous': None,\n",
       "  'total': 0}}"
      ]
     },
     "execution_count": 28,
     "metadata": {},
     "output_type": "execute_result"
    }
   ],
   "source": [
    "p_list\n",
    "# p_list['playlists']['items'][0]"
   ]
  },
  {
   "cell_type": "code",
   "execution_count": 4,
   "metadata": {},
   "outputs": [
    {
     "name": "stdout",
     "output_type": "stream",
     "text": [
      " playlist_id: 07eLdS5uGbyK6Gb7bF8VaF | user_id: laisy\n"
     ]
    }
   ],
   "source": [
    "\n",
    "for i in range(0, len(p_list['playlists']['items'])):\n",
    "    if p_list['playlists']['items'][i]['owner']['display_name'] == display_name:\n",
    "        playlist_id =  p_list['playlists']['items'][0]['id']\n",
    "        user_id = p_list['playlists']['items'][0]['owner']['id']\n",
    "print(f\" playlist_id: {playlist_id} | user_id: {user_id}\")"
   ]
  },
  {
   "cell_type": "code",
   "execution_count": 5,
   "metadata": {},
   "outputs": [
    {
     "data": {
      "text/plain": [
       "'laisy'"
      ]
     },
     "execution_count": 5,
     "metadata": {},
     "output_type": "execute_result"
    }
   ],
   "source": [
    "# p_list['playlists']['items'][0]['owner']['display_name']\n",
    "# p_list['playlists']['items'][0]['id']\n",
    "p_list['playlists']['items'][0]['owner']['id']"
   ]
  },
  {
   "cell_type": "code",
   "execution_count": 7,
   "metadata": {},
   "outputs": [],
   "source": [
    "playlist_tracks = sp.user_playlist_tracks(user = user_id, playlist_id = playlist_id)"
   ]
  },
  {
   "cell_type": "code",
   "execution_count": 8,
   "metadata": {},
   "outputs": [],
   "source": [
    "playlist_track_ids = []\n",
    "for i in range(0, len(playlist_tracks['items'])):\n",
    "    playlist_track_ids.append(playlist_tracks['items'][i]['track']['id'])"
   ]
  },
  {
   "cell_type": "code",
   "execution_count": 9,
   "metadata": {},
   "outputs": [],
   "source": [
    "df = feature_pull_df(playlist_track_ids)"
   ]
  },
  {
   "cell_type": "code",
   "execution_count": 10,
   "metadata": {},
   "outputs": [
    {
     "data": {
      "text/html": [
       "<div>\n",
       "<style scoped>\n",
       "    .dataframe tbody tr th:only-of-type {\n",
       "        vertical-align: middle;\n",
       "    }\n",
       "\n",
       "    .dataframe tbody tr th {\n",
       "        vertical-align: top;\n",
       "    }\n",
       "\n",
       "    .dataframe thead th {\n",
       "        text-align: right;\n",
       "    }\n",
       "</style>\n",
       "<table border=\"1\" class=\"dataframe\">\n",
       "  <thead>\n",
       "    <tr style=\"text-align: right;\">\n",
       "      <th></th>\n",
       "      <th>acousticness</th>\n",
       "      <th>danceability</th>\n",
       "      <th>duration_ms</th>\n",
       "      <th>energy</th>\n",
       "      <th>instrumentalness</th>\n",
       "      <th>key</th>\n",
       "      <th>liveness</th>\n",
       "      <th>loudness</th>\n",
       "      <th>mode</th>\n",
       "      <th>speechiness</th>\n",
       "      <th>tempo</th>\n",
       "      <th>time_signature</th>\n",
       "      <th>valence</th>\n",
       "    </tr>\n",
       "  </thead>\n",
       "  <tbody>\n",
       "    <tr>\n",
       "      <th>0</th>\n",
       "      <td>0.295</td>\n",
       "      <td>0.758</td>\n",
       "      <td>260027</td>\n",
       "      <td>0.651</td>\n",
       "      <td>0.000715</td>\n",
       "      <td>6</td>\n",
       "      <td>0.0742</td>\n",
       "      <td>-4.196</td>\n",
       "      <td>0</td>\n",
       "      <td>0.1410</td>\n",
       "      <td>144.041</td>\n",
       "      <td>4</td>\n",
       "      <td>0.511</td>\n",
       "    </tr>\n",
       "    <tr>\n",
       "      <th>1</th>\n",
       "      <td>0.377</td>\n",
       "      <td>0.428</td>\n",
       "      <td>248237</td>\n",
       "      <td>0.614</td>\n",
       "      <td>0.000297</td>\n",
       "      <td>0</td>\n",
       "      <td>0.1210</td>\n",
       "      <td>-10.069</td>\n",
       "      <td>1</td>\n",
       "      <td>0.0311</td>\n",
       "      <td>155.894</td>\n",
       "      <td>4</td>\n",
       "      <td>0.280</td>\n",
       "    </tr>\n",
       "    <tr>\n",
       "      <th>2</th>\n",
       "      <td>0.534</td>\n",
       "      <td>0.628</td>\n",
       "      <td>216883</td>\n",
       "      <td>0.336</td>\n",
       "      <td>0.000000</td>\n",
       "      <td>1</td>\n",
       "      <td>0.0903</td>\n",
       "      <td>-8.884</td>\n",
       "      <td>1</td>\n",
       "      <td>0.1430</td>\n",
       "      <td>101.518</td>\n",
       "      <td>4</td>\n",
       "      <td>0.671</td>\n",
       "    </tr>\n",
       "    <tr>\n",
       "      <th>3</th>\n",
       "      <td>0.291</td>\n",
       "      <td>0.603</td>\n",
       "      <td>203326</td>\n",
       "      <td>0.761</td>\n",
       "      <td>0.000000</td>\n",
       "      <td>8</td>\n",
       "      <td>0.1240</td>\n",
       "      <td>-5.749</td>\n",
       "      <td>1</td>\n",
       "      <td>0.1690</td>\n",
       "      <td>127.854</td>\n",
       "      <td>4</td>\n",
       "      <td>0.681</td>\n",
       "    </tr>\n",
       "    <tr>\n",
       "      <th>4</th>\n",
       "      <td>0.837</td>\n",
       "      <td>0.460</td>\n",
       "      <td>293880</td>\n",
       "      <td>0.604</td>\n",
       "      <td>0.153000</td>\n",
       "      <td>2</td>\n",
       "      <td>0.1190</td>\n",
       "      <td>-8.303</td>\n",
       "      <td>1</td>\n",
       "      <td>0.0591</td>\n",
       "      <td>78.540</td>\n",
       "      <td>1</td>\n",
       "      <td>0.664</td>\n",
       "    </tr>\n",
       "  </tbody>\n",
       "</table>\n",
       "</div>"
      ],
      "text/plain": [
       "   acousticness  danceability  duration_ms  energy  instrumentalness  key  \\\n",
       "0         0.295         0.758       260027   0.651          0.000715    6   \n",
       "1         0.377         0.428       248237   0.614          0.000297    0   \n",
       "2         0.534         0.628       216883   0.336          0.000000    1   \n",
       "3         0.291         0.603       203326   0.761          0.000000    8   \n",
       "4         0.837         0.460       293880   0.604          0.153000    2   \n",
       "\n",
       "   liveness  loudness  mode  speechiness    tempo  time_signature  valence  \n",
       "0    0.0742    -4.196     0       0.1410  144.041               4    0.511  \n",
       "1    0.1210   -10.069     1       0.0311  155.894               4    0.280  \n",
       "2    0.0903    -8.884     1       0.1430  101.518               4    0.671  \n",
       "3    0.1240    -5.749     1       0.1690  127.854               4    0.681  \n",
       "4    0.1190    -8.303     1       0.0591   78.540               1    0.664  "
      ]
     },
     "execution_count": 10,
     "metadata": {},
     "output_type": "execute_result"
    }
   ],
   "source": [
    "df.head()"
   ]
  },
  {
   "cell_type": "code",
   "execution_count": 62,
   "metadata": {},
   "outputs": [],
   "source": []
  },
  {
   "cell_type": "code",
   "execution_count": 62,
   "metadata": {},
   "outputs": [],
   "source": []
  },
  {
   "cell_type": "code",
   "execution_count": 8,
   "metadata": {},
   "outputs": [
    {
     "name": "stdout",
     "output_type": "stream",
     "text": [
      "\n",
      "\n",
      "            User authentication requires interaction with your\n",
      "            web browser. Once you enter your credentials and\n",
      "            give authorization, you will be redirected to\n",
      "            a url.  Paste that url you were directed to to\n",
      "            complete the authorization.\n",
      "\n",
      "        \n",
      "Opened https://accounts.spotify.com/authorize?client_id=7b0e5ed233304809ae9933fd28fb4ee8&response_type=code&redirect_uri=None&scope=playlist-read-private in your browser\n",
      "\n",
      "\n",
      "\n",
      "\n"
     ]
    },
    {
     "ename": "SpotifyOauthError",
     "evalue": "Bad Request",
     "output_type": "error",
     "traceback": [
      "\u001b[1;31m---------------------------------------------------------------------------\u001b[0m",
      "\u001b[1;31mSpotifyOauthError\u001b[0m                         Traceback (most recent call last)",
      "\u001b[1;32m<ipython-input-8-9662034b69d7>\u001b[0m in \u001b[0;36m<module>\u001b[1;34m()\u001b[0m\n\u001b[0;32m      2\u001b[0m                            \u001b[0mscope\u001b[0m \u001b[1;33m=\u001b[0m \u001b[1;34m'playlist-read-private'\u001b[0m\u001b[1;33m,\u001b[0m\u001b[1;33m\u001b[0m\u001b[0m\n\u001b[0;32m      3\u001b[0m                            \u001b[0mclient_id\u001b[0m\u001b[1;33m=\u001b[0m\u001b[0mclient_id\u001b[0m\u001b[1;33m,\u001b[0m\u001b[1;33m\u001b[0m\u001b[0m\n\u001b[1;32m----> 4\u001b[1;33m                            client_secret=client_secret)\n\u001b[0m",
      "\u001b[1;32m~\\Anaconda3\\envs\\PythonData\\lib\\site-packages\\spotipy\\util.py\u001b[0m in \u001b[0;36mprompt_for_user_token\u001b[1;34m(username, scope, client_id, client_secret, redirect_uri)\u001b[0m\n\u001b[0;32m     84\u001b[0m \u001b[1;33m\u001b[0m\u001b[0m\n\u001b[0;32m     85\u001b[0m         \u001b[0mcode\u001b[0m \u001b[1;33m=\u001b[0m \u001b[0msp_oauth\u001b[0m\u001b[1;33m.\u001b[0m\u001b[0mparse_response_code\u001b[0m\u001b[1;33m(\u001b[0m\u001b[0mresponse\u001b[0m\u001b[1;33m)\u001b[0m\u001b[1;33m\u001b[0m\u001b[0m\n\u001b[1;32m---> 86\u001b[1;33m         \u001b[0mtoken_info\u001b[0m \u001b[1;33m=\u001b[0m \u001b[0msp_oauth\u001b[0m\u001b[1;33m.\u001b[0m\u001b[0mget_access_token\u001b[0m\u001b[1;33m(\u001b[0m\u001b[0mcode\u001b[0m\u001b[1;33m)\u001b[0m\u001b[1;33m\u001b[0m\u001b[0m\n\u001b[0m\u001b[0;32m     87\u001b[0m     \u001b[1;31m# Auth'ed API request\u001b[0m\u001b[1;33m\u001b[0m\u001b[1;33m\u001b[0m\u001b[0m\n\u001b[0;32m     88\u001b[0m     \u001b[1;32mif\u001b[0m \u001b[0mtoken_info\u001b[0m\u001b[1;33m:\u001b[0m\u001b[1;33m\u001b[0m\u001b[0m\n",
      "\u001b[1;32m~\\Anaconda3\\envs\\PythonData\\lib\\site-packages\\spotipy\\oauth2.py\u001b[0m in \u001b[0;36mget_access_token\u001b[1;34m(self, code)\u001b[0m\n\u001b[0;32m    215\u001b[0m             headers=headers, verify=True, proxies=self.proxies)\n\u001b[0;32m    216\u001b[0m         \u001b[1;32mif\u001b[0m \u001b[0mresponse\u001b[0m\u001b[1;33m.\u001b[0m\u001b[0mstatus_code\u001b[0m \u001b[1;32mis\u001b[0m \u001b[1;32mnot\u001b[0m \u001b[1;36m200\u001b[0m\u001b[1;33m:\u001b[0m\u001b[1;33m\u001b[0m\u001b[0m\n\u001b[1;32m--> 217\u001b[1;33m             \u001b[1;32mraise\u001b[0m \u001b[0mSpotifyOauthError\u001b[0m\u001b[1;33m(\u001b[0m\u001b[0mresponse\u001b[0m\u001b[1;33m.\u001b[0m\u001b[0mreason\u001b[0m\u001b[1;33m)\u001b[0m\u001b[1;33m\u001b[0m\u001b[0m\n\u001b[0m\u001b[0;32m    218\u001b[0m         \u001b[0mtoken_info\u001b[0m \u001b[1;33m=\u001b[0m \u001b[0mresponse\u001b[0m\u001b[1;33m.\u001b[0m\u001b[0mjson\u001b[0m\u001b[1;33m(\u001b[0m\u001b[1;33m)\u001b[0m\u001b[1;33m\u001b[0m\u001b[0m\n\u001b[0;32m    219\u001b[0m         \u001b[0mtoken_info\u001b[0m \u001b[1;33m=\u001b[0m \u001b[0mself\u001b[0m\u001b[1;33m.\u001b[0m\u001b[0m_add_custom_values_to_token_info\u001b[0m\u001b[1;33m(\u001b[0m\u001b[0mtoken_info\u001b[0m\u001b[1;33m)\u001b[0m\u001b[1;33m\u001b[0m\u001b[0m\n",
      "\u001b[1;31mSpotifyOauthError\u001b[0m: Bad Request"
     ]
    }
   ],
   "source": [
    "sp_user = util.prompt_for_user_token(username,\n",
    "                           scope = 'playlist-read-private',\n",
    "                           client_id=client_id,\n",
    "                           client_secret=client_secret)"
   ]
  },
  {
   "cell_type": "code",
   "execution_count": 4,
   "metadata": {},
   "outputs": [],
   "source": [
    "def show_tracks(tracks):\n",
    "    for i, item in enumerate(tracks['items']):\n",
    "        track = item['track']\n",
    "        print(i, track['artists'][0]['name'],\n",
    "            track['name'])"
   ]
  },
  {
   "cell_type": "code",
   "execution_count": 5,
   "metadata": {},
   "outputs": [],
   "source": [
    "username = 123278927"
   ]
  },
  {
   "cell_type": "code",
   "execution_count": 8,
   "metadata": {},
   "outputs": [
    {
     "data": {
      "text/plain": [
       "{'href': 'https://api.spotify.com/v1/users/123278927/playlists?offset=0&limit=50',\n",
       " 'items': [],\n",
       " 'limit': 50,\n",
       " 'next': None,\n",
       " 'offset': 0,\n",
       " 'previous': None,\n",
       " 'total': 0}"
      ]
     },
     "execution_count": 8,
     "metadata": {},
     "output_type": "execute_result"
    }
   ],
   "source": [
    "playlists = sp.user_playlists(username)\n",
    "playlists"
   ]
  },
  {
   "cell_type": "code",
   "execution_count": 2,
   "metadata": {},
   "outputs": [
    {
     "ename": "SyntaxError",
     "evalue": "invalid syntax (<ipython-input-2-cf3c1f0f0336>, line 4)",
     "output_type": "error",
     "traceback": [
      "\u001b[1;36m  File \u001b[1;32m\"<ipython-input-2-cf3c1f0f0336>\"\u001b[1;36m, line \u001b[1;32m4\u001b[0m\n\u001b[1;33m    print \"   %d %32.32s %s\" % (i, track['artists'][0]['name'],\u001b[0m\n\u001b[1;37m                           ^\u001b[0m\n\u001b[1;31mSyntaxError\u001b[0m\u001b[1;31m:\u001b[0m invalid syntax\n"
     ]
    }
   ],
   "source": [
    "playlists = sp.user_playlists(username)\n",
    "for playlist in playlists['items']:\n",
    "    if playlist['owner']['id'] == username:\n",
    "        print\n",
    "        print playlist['name']\n",
    "        print '  total tracks', playlist['tracks']['total']\n",
    "        results = sp.user_playlist(username, playlist['id'],\n",
    "            fields=\"tracks,next\")\n",
    "        tracks = results['tracks']\n",
    "        show_tracks(tracks)\n",
    "        while tracks['next']:\n",
    "            tracks = sp.next(tracks)\n",
    "            show_tracks(tracks)"
   ]
  },
  {
   "cell_type": "code",
   "execution_count": 7,
   "metadata": {},
   "outputs": [
    {
     "name": "stdout",
     "output_type": "stream",
     "text": [
      "\n",
      "            You need to set your Spotify API credentials. You can do this by\n",
      "            setting environment variables like so:\n",
      "\n",
      "            export SPOTIPY_CLIENT_ID='your-spotify-client-id'\n",
      "            export SPOTIPY_CLIENT_SECRET='your-spotify-client-secret'\n",
      "            export SPOTIPY_REDIRECT_URI='your-app-redirect-url'\n",
      "\n",
      "            Get your credentials at     \n",
      "                https://developer.spotify.com/my-applications\n",
      "        \n"
     ]
    },
    {
     "ename": "SpotifyException",
     "evalue": "http status: 550, code:-1 - no credentials set",
     "output_type": "error",
     "traceback": [
      "\u001b[1;31m---------------------------------------------------------------------------\u001b[0m",
      "\u001b[1;31mSpotifyException\u001b[0m                          Traceback (most recent call last)",
      "\u001b[1;32m<ipython-input-7-4f7a6572912d>\u001b[0m in \u001b[0;36m<module>\u001b[1;34m()\u001b[0m\n\u001b[0;32m     11\u001b[0m     \u001b[0msys\u001b[0m\u001b[1;33m.\u001b[0m\u001b[0mexit\u001b[0m\u001b[1;33m(\u001b[0m\u001b[1;33m)\u001b[0m\u001b[1;33m\u001b[0m\u001b[0m\n\u001b[0;32m     12\u001b[0m \u001b[1;33m\u001b[0m\u001b[0m\n\u001b[1;32m---> 13\u001b[1;33m \u001b[0mtoken\u001b[0m \u001b[1;33m=\u001b[0m \u001b[0mutil\u001b[0m\u001b[1;33m.\u001b[0m\u001b[0mprompt_for_user_token\u001b[0m\u001b[1;33m(\u001b[0m\u001b[0musername\u001b[0m\u001b[1;33m,\u001b[0m \u001b[0mscope\u001b[0m\u001b[1;33m)\u001b[0m\u001b[1;33m\u001b[0m\u001b[0m\n\u001b[0m\u001b[0;32m     14\u001b[0m \u001b[1;33m\u001b[0m\u001b[0m\n\u001b[0;32m     15\u001b[0m \u001b[1;32mif\u001b[0m \u001b[0mtoken\u001b[0m\u001b[1;33m:\u001b[0m\u001b[1;33m\u001b[0m\u001b[0m\n",
      "\u001b[1;32m~\\Anaconda3\\envs\\PythonData\\lib\\site-packages\\spotipy\\util.py\u001b[0m in \u001b[0;36mprompt_for_user_token\u001b[1;34m(username, scope, client_id, client_secret, redirect_uri)\u001b[0m\n\u001b[0;32m     45\u001b[0m                 \u001b[0mhttps\u001b[0m\u001b[1;33m:\u001b[0m\u001b[1;33m//\u001b[0m\u001b[0mdeveloper\u001b[0m\u001b[1;33m.\u001b[0m\u001b[0mspotify\u001b[0m\u001b[1;33m.\u001b[0m\u001b[0mcom\u001b[0m\u001b[1;33m/\u001b[0m\u001b[0mmy\u001b[0m\u001b[1;33m-\u001b[0m\u001b[0mapplications\u001b[0m\u001b[1;33m\u001b[0m\u001b[0m\n\u001b[0;32m     46\u001b[0m         ''')\n\u001b[1;32m---> 47\u001b[1;33m         \u001b[1;32mraise\u001b[0m \u001b[0mspotipy\u001b[0m\u001b[1;33m.\u001b[0m\u001b[0mSpotifyException\u001b[0m\u001b[1;33m(\u001b[0m\u001b[1;36m550\u001b[0m\u001b[1;33m,\u001b[0m \u001b[1;33m-\u001b[0m\u001b[1;36m1\u001b[0m\u001b[1;33m,\u001b[0m \u001b[1;34m'no credentials set'\u001b[0m\u001b[1;33m)\u001b[0m\u001b[1;33m\u001b[0m\u001b[0m\n\u001b[0m\u001b[0;32m     48\u001b[0m \u001b[1;33m\u001b[0m\u001b[0m\n\u001b[0;32m     49\u001b[0m     sp_oauth = oauth2.SpotifyOAuth(client_id, client_secret, redirect_uri, \n",
      "\u001b[1;31mSpotifyException\u001b[0m: http status: 550, code:-1 - no credentials set"
     ]
    }
   ],
   "source": [
    "import sys\n",
    "import spotipy\n",
    "import spotipy.util as util\n",
    "\n",
    "scope = 'user-library-read'\n",
    "\n",
    "if len(sys.argv) > 1:\n",
    "    username = sys.argv[1]\n",
    "else:\n",
    "    print(sys.argv[0],)\n",
    "    sys.exit()\n",
    "\n",
    "token = util.prompt_for_user_token(username, scope)\n",
    "\n",
    "if token:\n",
    "    results = sp.current_user_saved_tracks()\n",
    "    for item in results['items']:\n",
    "        track = item['track']\n",
    "        print(track['name'] + ' - ' + track['artists'][0]['name'])\n",
    "else:\n",
    "    print(\"Can't get token for\", username)"
   ]
  }
 ],
 "metadata": {
  "kernelspec": {
   "display_name": "Python 3",
   "language": "python",
   "name": "python3"
  },
  "language_info": {
   "codemirror_mode": {
    "name": "ipython",
    "version": 3
   },
   "file_extension": ".py",
   "mimetype": "text/x-python",
   "name": "python",
   "nbconvert_exporter": "python",
   "pygments_lexer": "ipython3",
   "version": "3.6.5"
  }
 },
 "nbformat": 4,
 "nbformat_minor": 2
}
