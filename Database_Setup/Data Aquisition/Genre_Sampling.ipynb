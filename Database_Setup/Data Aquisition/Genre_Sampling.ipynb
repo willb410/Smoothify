{
 "cells": [
  {
   "cell_type": "code",
   "execution_count": 1,
   "metadata": {},
   "outputs": [],
   "source": [
    "import spotipy\n",
    "from spotipy.oauth2 import SpotifyClientCredentials\n",
    "\n",
    "import pandas as pd\n",
    "import numpy as np\n",
    "\n",
    "from sqlalchemy import create_engine\n",
    "from sqlalchemy import types\n",
    "import pymysql\n",
    "pymysql.install_as_MySQLdb()\n",
    "from sqlalchemy.ext.automap import automap_base\n",
    "from sqlalchemy.orm import Session\n",
    "\n",
    "import os\n",
    "import sys\n",
    "sys.path\n",
    "sys.path.append('../')\n",
    "from connections import password, client_id, client_secret"
   ]
  },
  {
   "cell_type": "code",
   "execution_count": 2,
   "metadata": {},
   "outputs": [],
   "source": [
    "# Client credentials\n",
    "client_credentials_manager = SpotifyClientCredentials(\n",
    "    client_id=client_id, \n",
    "    client_secret=client_secret)\n",
    "sp = spotipy.Spotify(client_credentials_manager=client_credentials_manager)"
   ]
  },
  {
   "cell_type": "code",
   "execution_count": 3,
   "metadata": {},
   "outputs": [],
   "source": [
    "# Establish SQL connection\n",
    "connection_string = (f\"root:{password}@localhost/spot_db\")\n",
    "engine = create_engine(f\"mysql://{connection_string}\")# , pool_recycle=3600, pool_pre_ping=True)\n",
    "\n",
    "# reflect an existing database into a new model\n",
    "Base = automap_base()\n",
    "# reflect the tables\n",
    "Base.prepare(engine, reflect=True)\n",
    "# Save reference to the table\n",
    "_songs = Base.classes.songs\n",
    "try:\n",
    "    features = Base.classes.features\n",
    "except:\n",
    "    pass\n",
    "# Create connection object\n",
    "session = Session(engine)"
   ]
  },
  {
   "cell_type": "code",
   "execution_count": 4,
   "metadata": {},
   "outputs": [],
   "source": [
    "genres = sp.recommendation_genre_seeds()\n",
    "genres = genres['genres']"
   ]
  },
  {
   "cell_type": "code",
   "execution_count": 5,
   "metadata": {},
   "outputs": [],
   "source": [
    "import random\n",
    "shuffled_genres = random.shuffle(genres)"
   ]
  },
  {
   "cell_type": "code",
   "execution_count": 17,
   "metadata": {},
   "outputs": [
    {
     "data": {
      "text/plain": [
       "[['pop-film', 'iranian', 'techno', 'punk', 'singer-songwriter'],\n",
       " ['punk-rock', 'ambient', 'german', 'piano', 'road-trip'],\n",
       " ['funk', 'guitar', 'holidays', 'bluegrass', 'indie'],\n",
       " ['hard-rock', 'spanish', 'brazil', 'british', 'romance']]"
      ]
     },
     "execution_count": 17,
     "metadata": {},
     "output_type": "execute_result"
    }
   ],
   "source": [
    "def chunk_lists(list, n = 5): \n",
    "    for i in range(0, len(list), n):  \n",
    "        yield list[i:i + n] \n",
    "genre_chunks = list(chunk_lists(genres))\n",
    "genre_chunks[0:4]"
   ]
  },
  {
   "cell_type": "code",
   "execution_count": null,
   "metadata": {},
   "outputs": [],
   "source": []
  },
  {
   "cell_type": "code",
   "execution_count": 18,
   "metadata": {},
   "outputs": [],
   "source": [
    "rec_tests = []\n",
    "for chunk in genre_chunks:\n",
    "    rec_tests.append(sp.recommendations(seed_genres = chunk, limit = 100))"
   ]
  },
  {
   "cell_type": "code",
   "execution_count": 35,
   "metadata": {},
   "outputs": [
    {
     "data": {
      "text/plain": [
       "2548"
      ]
     },
     "execution_count": 35,
     "metadata": {},
     "output_type": "execute_result"
    }
   ],
   "source": [
    "len(unique_songs)"
   ]
  },
  {
   "cell_type": "code",
   "execution_count": 21,
   "metadata": {},
   "outputs": [],
   "source": [
    "ids = []\n",
    "tracks = []\n",
    "artists = []\n",
    "for i in range(0, len(rec_tests)):\n",
    "    for j in range(0, len(rec_tests[i]['tracks'])):\n",
    "        ids.append(rec_tests[i]['tracks'][j]['id'])\n",
    "        tracks.append(rec_tests[i]['tracks'][j]['name'])\n",
    "        artists.append(rec_tests[i]['tracks'][j]['artists'][0]['name'])"
   ]
  },
  {
   "cell_type": "code",
   "execution_count": 30,
   "metadata": {},
   "outputs": [],
   "source": [
    "songs_df = pd.DataFrame(data = {'ID':ids, 'Track':tracks, 'Artist':artists})"
   ]
  },
  {
   "cell_type": "code",
   "execution_count": 32,
   "metadata": {},
   "outputs": [],
   "source": [
    "song_id = session.query(_songs.ID).all()\n",
    "id_list = list(np.ravel(song_id))"
   ]
  },
  {
   "cell_type": "code",
   "execution_count": 34,
   "metadata": {},
   "outputs": [],
   "source": [
    "unique_songs = songs_df.loc[~songs_df.ID.isin(id_list)]"
   ]
  },
  {
   "cell_type": "code",
   "execution_count": null,
   "metadata": {},
   "outputs": [],
   "source": []
  },
  {
   "cell_type": "code",
   "execution_count": 36,
   "metadata": {},
   "outputs": [
    {
     "name": "stderr",
     "output_type": "stream",
     "text": [
      "C:\\Users\\Will\\Anaconda3\\envs\\PythonData\\lib\\site-packages\\ipykernel_launcher.py:1: SettingWithCopyWarning: \n",
      "A value is trying to be set on a copy of a slice from a DataFrame\n",
      "\n",
      "See the caveats in the documentation: http://pandas.pydata.org/pandas-docs/stable/indexing.html#indexing-view-versus-copy\n",
      "  \"\"\"Entry point for launching an IPython kernel.\n"
     ]
    }
   ],
   "source": [
    "unique_songs.drop_duplicates(inplace = True)"
   ]
  },
  {
   "cell_type": "code",
   "execution_count": 37,
   "metadata": {},
   "outputs": [],
   "source": [
    "for id in id_list:\n",
    "    if id in unique_songs.ID:\n",
    "        print(id)"
   ]
  },
  {
   "cell_type": "code",
   "execution_count": 38,
   "metadata": {},
   "outputs": [],
   "source": [
    "engine.execute(\"USE spot_db\")\n",
    "unique_songs.to_sql(\n",
    "    name = 'songs', con = engine,\n",
    "    if_exists = 'append')\n",
    "# with engine.connect() as con:\n",
    "#     con.execute('ALTER TABLE `songs` ADD PRIMARY KEY (`ID`);')"
   ]
  }
 ],
 "metadata": {
  "kernelspec": {
   "display_name": "Python 3",
   "language": "python",
   "name": "python3"
  },
  "language_info": {
   "codemirror_mode": {
    "name": "ipython",
    "version": 3
   },
   "file_extension": ".py",
   "mimetype": "text/x-python",
   "name": "python",
   "nbconvert_exporter": "python",
   "pygments_lexer": "ipython3",
   "version": "3.6.5"
  }
 },
 "nbformat": 4,
 "nbformat_minor": 2
}
