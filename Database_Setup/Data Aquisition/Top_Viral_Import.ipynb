{
 "cells": [
  {
   "cell_type": "code",
   "execution_count": 1,
   "metadata": {},
   "outputs": [],
   "source": [
    "import pandas as pd\n",
    "from sqlalchemy import create_engine\n",
    "from sqlalchemy import types\n",
    "import pymysql\n",
    "pymysql.install_as_MySQLdb()\n",
    "\n",
    "import os\n",
    "import sys\n",
    "sys.path\n",
    "sys.path.append('../')\n",
    "sys.path.append('spotify-chart')\n",
    "from connections import password\n",
    "import charts"
   ]
  },
  {
   "cell_type": "markdown",
   "metadata": {},
   "source": [
    "## Top 200 Daily"
   ]
  },
  {
   "cell_type": "code",
   "execution_count": 3,
   "metadata": {},
   "outputs": [
    {
     "name": "stderr",
     "output_type": "stream",
     "text": [
      " 19%|███████████████                                                                 | 149/789 [03:54<16:58,  1.59s/it]"
     ]
    },
    {
     "name": "stdout",
     "output_type": "stream",
     "text": [
      "<_io.StringIO object at 0x0000021F03070558>\n"
     ]
    },
    {
     "name": "stderr",
     "output_type": "stream",
     "text": [
      " 19%|███████████████▏                                                                | 150/789 [03:55<13:23,  1.26s/it]"
     ]
    },
    {
     "name": "stdout",
     "output_type": "stream",
     "text": [
      "<_io.StringIO object at 0x0000021F03066DC8>\n"
     ]
    },
    {
     "name": "stderr",
     "output_type": "stream",
     "text": [
      " 19%|███████████████▍                                                                | 152/789 [03:57<12:13,  1.15s/it]"
     ]
    },
    {
     "name": "stdout",
     "output_type": "stream",
     "text": [
      "<_io.StringIO object at 0x0000021F03066DC8>\n"
     ]
    },
    {
     "name": "stderr",
     "output_type": "stream",
     "text": [
      "100%|████████████████████████████████████████████████████████████████████████████████| 789/789 [21:24<00:00,  1.61s/it]\n"
     ]
    }
   ],
   "source": [
    "# US\n",
    "daily_charts = charts.get_charts('2017-01-01', '2019-02-28', freq = 'daily', region = 'us')"
   ]
  },
  {
   "cell_type": "code",
   "execution_count": 50,
   "metadata": {},
   "outputs": [
    {
     "data": {
      "text/html": [
       "<div>\n",
       "<style scoped>\n",
       "    .dataframe tbody tr th:only-of-type {\n",
       "        vertical-align: middle;\n",
       "    }\n",
       "\n",
       "    .dataframe tbody tr th {\n",
       "        vertical-align: top;\n",
       "    }\n",
       "\n",
       "    .dataframe thead th {\n",
       "        text-align: right;\n",
       "    }\n",
       "</style>\n",
       "<table border=\"1\" class=\"dataframe\">\n",
       "  <thead>\n",
       "    <tr style=\"text-align: right;\">\n",
       "      <th></th>\n",
       "      <th>Position</th>\n",
       "      <th>Track Name</th>\n",
       "      <th>Artist</th>\n",
       "      <th>Streams</th>\n",
       "      <th>URL</th>\n",
       "      <th>date</th>\n",
       "    </tr>\n",
       "  </thead>\n",
       "  <tbody>\n",
       "    <tr>\n",
       "      <th>0</th>\n",
       "      <td>Position</td>\n",
       "      <td>Track Name</td>\n",
       "      <td>Artist</td>\n",
       "      <td>Streams</td>\n",
       "      <td>URL</td>\n",
       "      <td>2017-01-01</td>\n",
       "    </tr>\n",
       "    <tr>\n",
       "      <th>1</th>\n",
       "      <td>1</td>\n",
       "      <td>Bad and Boujee (feat. Lil Uzi Vert)</td>\n",
       "      <td>Migos</td>\n",
       "      <td>1371493</td>\n",
       "      <td>https://open.spotify.com/track/4Km5HrUvYTaSUfi...</td>\n",
       "      <td>2017-01-01</td>\n",
       "    </tr>\n",
       "    <tr>\n",
       "      <th>2</th>\n",
       "      <td>2</td>\n",
       "      <td>Fake Love</td>\n",
       "      <td>Drake</td>\n",
       "      <td>1180074</td>\n",
       "      <td>https://open.spotify.com/track/343YBumqHu19cGo...</td>\n",
       "      <td>2017-01-01</td>\n",
       "    </tr>\n",
       "    <tr>\n",
       "      <th>3</th>\n",
       "      <td>3</td>\n",
       "      <td>Starboy</td>\n",
       "      <td>The Weeknd</td>\n",
       "      <td>1064351</td>\n",
       "      <td>https://open.spotify.com/track/5aAx2yezTd8zXrk...</td>\n",
       "      <td>2017-01-01</td>\n",
       "    </tr>\n",
       "    <tr>\n",
       "      <th>4</th>\n",
       "      <td>4</td>\n",
       "      <td>Closer</td>\n",
       "      <td>The Chainsmokers</td>\n",
       "      <td>1010492</td>\n",
       "      <td>https://open.spotify.com/track/7BKLCZ1jbUBVqRi...</td>\n",
       "      <td>2017-01-01</td>\n",
       "    </tr>\n",
       "  </tbody>\n",
       "</table>\n",
       "</div>"
      ],
      "text/plain": [
       "   Position                           Track Name            Artist  Streams  \\\n",
       "0  Position                           Track Name            Artist  Streams   \n",
       "1         1  Bad and Boujee (feat. Lil Uzi Vert)             Migos  1371493   \n",
       "2         2                            Fake Love             Drake  1180074   \n",
       "3         3                              Starboy        The Weeknd  1064351   \n",
       "4         4                               Closer  The Chainsmokers  1010492   \n",
       "\n",
       "                                                 URL       date  \n",
       "0                                                URL 2017-01-01  \n",
       "1  https://open.spotify.com/track/4Km5HrUvYTaSUfi... 2017-01-01  \n",
       "2  https://open.spotify.com/track/343YBumqHu19cGo... 2017-01-01  \n",
       "3  https://open.spotify.com/track/5aAx2yezTd8zXrk... 2017-01-01  \n",
       "4  https://open.spotify.com/track/7BKLCZ1jbUBVqRi... 2017-01-01  "
      ]
     },
     "execution_count": 50,
     "metadata": {},
     "output_type": "execute_result"
    }
   ],
   "source": [
    "top_200_daily = pd.DataFrame(daily_charts)\n",
    "top_200_daily.rename(columns = {'Unnamed: 0':'Position', \n",
    "                                'Unnamed: 1': 'Track Name', \n",
    "                                'Unnamed: 2':'Artist', \n",
    "                                'Note that these figures are generated using a formula that protects against any artificial inflation of chart positions.':'Streams', \n",
    "                                'Unnamed: 4':'URL'}, inplace = True)\n",
    "top_200_daily.head()"
   ]
  },
  {
   "cell_type": "code",
   "execution_count": 51,
   "metadata": {},
   "outputs": [
    {
     "data": {
      "text/html": [
       "<div>\n",
       "<style scoped>\n",
       "    .dataframe tbody tr th:only-of-type {\n",
       "        vertical-align: middle;\n",
       "    }\n",
       "\n",
       "    .dataframe tbody tr th {\n",
       "        vertical-align: top;\n",
       "    }\n",
       "\n",
       "    .dataframe thead th {\n",
       "        text-align: right;\n",
       "    }\n",
       "</style>\n",
       "<table border=\"1\" class=\"dataframe\">\n",
       "  <thead>\n",
       "    <tr style=\"text-align: right;\">\n",
       "      <th></th>\n",
       "      <th>Position</th>\n",
       "      <th>date</th>\n",
       "      <th>ID</th>\n",
       "    </tr>\n",
       "  </thead>\n",
       "  <tbody>\n",
       "    <tr>\n",
       "      <th>0</th>\n",
       "      <td>1</td>\n",
       "      <td>2017-01-01</td>\n",
       "      <td>4Km5HrUvYTaSUfiSGPJeQR</td>\n",
       "    </tr>\n",
       "    <tr>\n",
       "      <th>1</th>\n",
       "      <td>2</td>\n",
       "      <td>2017-01-01</td>\n",
       "      <td>343YBumqHu19cGoGARUTsd</td>\n",
       "    </tr>\n",
       "    <tr>\n",
       "      <th>2</th>\n",
       "      <td>3</td>\n",
       "      <td>2017-01-01</td>\n",
       "      <td>5aAx2yezTd8zXrkmtKl66Z</td>\n",
       "    </tr>\n",
       "    <tr>\n",
       "      <th>3</th>\n",
       "      <td>4</td>\n",
       "      <td>2017-01-01</td>\n",
       "      <td>7BKLCZ1jbUBVqRi2FVlTVw</td>\n",
       "    </tr>\n",
       "    <tr>\n",
       "      <th>4</th>\n",
       "      <td>5</td>\n",
       "      <td>2017-01-01</td>\n",
       "      <td>6fujklziTHa8uoM5OQSfIo</td>\n",
       "    </tr>\n",
       "  </tbody>\n",
       "</table>\n",
       "</div>"
      ],
      "text/plain": [
       "  Position       date                      ID\n",
       "0        1 2017-01-01  4Km5HrUvYTaSUfiSGPJeQR\n",
       "1        2 2017-01-01  343YBumqHu19cGoGARUTsd\n",
       "2        3 2017-01-01  5aAx2yezTd8zXrkmtKl66Z\n",
       "3        4 2017-01-01  7BKLCZ1jbUBVqRi2FVlTVw\n",
       "4        5 2017-01-01  6fujklziTHa8uoM5OQSfIo"
      ]
     },
     "execution_count": 51,
     "metadata": {},
     "output_type": "execute_result"
    }
   ],
   "source": [
    "# top_200_daily.drop(columns = 'Unnamed: 0', inplace = True)\n",
    "# top_200_weekly.rename(columns = {'Unnamed: 0':'index'}, inplace = True)\n",
    "top_200_daily.drop(0, inplace = True)\n",
    "top_200_daily.rename(columns = {'Track Name':'Track'}, inplace = True)\n",
    "\n",
    "top_200_daily['ID'] = top_200_daily['URL'].str.split('/', expand = True)[4]\n",
    "\n",
    "top_200_daily.reset_index(inplace = True)\n",
    "\n",
    "# top 200 db export\n",
    "top_200_db = top_200_daily[['Position', 'date', 'ID']]\n",
    "top_200_db.head()"
   ]
  },
  {
   "cell_type": "code",
   "execution_count": 3,
   "metadata": {},
   "outputs": [
    {
     "name": "stderr",
     "output_type": "stream",
     "text": [
      "  7%|█████▍                                                                           | 53/789 [01:39<22:59,  1.87s/it]"
     ]
    },
    {
     "name": "stdout",
     "output_type": "stream",
     "text": [
      "<_io.StringIO object at 0x000001A32830B288>\n"
     ]
    },
    {
     "name": "stderr",
     "output_type": "stream",
     "text": [
      " 19%|███████████████                                                                 | 149/789 [04:24<16:28,  1.55s/it]"
     ]
    },
    {
     "name": "stdout",
     "output_type": "stream",
     "text": [
      "<_io.StringIO object at 0x000001A32830B288>\n"
     ]
    },
    {
     "name": "stderr",
     "output_type": "stream",
     "text": [
      " 19%|███████████████▏                                                                | 150/789 [04:25<13:03,  1.23s/it]"
     ]
    },
    {
     "name": "stdout",
     "output_type": "stream",
     "text": [
      "<_io.StringIO object at 0x000001A32830B0D8>\n"
     ]
    },
    {
     "name": "stderr",
     "output_type": "stream",
     "text": [
      " 19%|███████████████▍                                                                | 152/789 [04:27<12:41,  1.19s/it]"
     ]
    },
    {
     "name": "stdout",
     "output_type": "stream",
     "text": [
      "<_io.StringIO object at 0x000001A32830B0D8>\n"
     ]
    },
    {
     "name": "stderr",
     "output_type": "stream",
     "text": [
      "100%|████████████████████████████████████████████████████████████████████████████████| 789/789 [24:08<00:00,  1.85s/it]\n"
     ]
    }
   ],
   "source": [
    "# Global\n",
    "global_daily_charts = charts.get_charts('2017-01-01', '2019-02-28', freq = 'daily', region = 'global')"
   ]
  },
  {
   "cell_type": "code",
   "execution_count": 8,
   "metadata": {},
   "outputs": [
    {
     "data": {
      "text/html": [
       "<div>\n",
       "<style scoped>\n",
       "    .dataframe tbody tr th:only-of-type {\n",
       "        vertical-align: middle;\n",
       "    }\n",
       "\n",
       "    .dataframe tbody tr th {\n",
       "        vertical-align: top;\n",
       "    }\n",
       "\n",
       "    .dataframe thead th {\n",
       "        text-align: right;\n",
       "    }\n",
       "</style>\n",
       "<table border=\"1\" class=\"dataframe\">\n",
       "  <thead>\n",
       "    <tr style=\"text-align: right;\">\n",
       "      <th></th>\n",
       "      <th>Position</th>\n",
       "      <th>date</th>\n",
       "      <th>ID</th>\n",
       "    </tr>\n",
       "  </thead>\n",
       "  <tbody>\n",
       "    <tr>\n",
       "      <th>0</th>\n",
       "      <td>1</td>\n",
       "      <td>2017-01-01</td>\n",
       "      <td>5aAx2yezTd8zXrkmtKl66Z</td>\n",
       "    </tr>\n",
       "    <tr>\n",
       "      <th>1</th>\n",
       "      <td>2</td>\n",
       "      <td>2017-01-01</td>\n",
       "      <td>7BKLCZ1jbUBVqRi2FVlTVw</td>\n",
       "    </tr>\n",
       "    <tr>\n",
       "      <th>2</th>\n",
       "      <td>3</td>\n",
       "      <td>2017-01-01</td>\n",
       "      <td>4pdPtRcBmOSQDlJ3Fk945m</td>\n",
       "    </tr>\n",
       "    <tr>\n",
       "      <th>3</th>\n",
       "      <td>4</td>\n",
       "      <td>2017-01-01</td>\n",
       "      <td>5knuzwU65gJK7IF5yJsuaW</td>\n",
       "    </tr>\n",
       "    <tr>\n",
       "      <th>4</th>\n",
       "      <td>5</td>\n",
       "      <td>2017-01-01</td>\n",
       "      <td>1xznGGDReH1oQq0xzbwXa3</td>\n",
       "    </tr>\n",
       "  </tbody>\n",
       "</table>\n",
       "</div>"
      ],
      "text/plain": [
       "  Position       date                      ID\n",
       "0        1 2017-01-01  5aAx2yezTd8zXrkmtKl66Z\n",
       "1        2 2017-01-01  7BKLCZ1jbUBVqRi2FVlTVw\n",
       "2        3 2017-01-01  4pdPtRcBmOSQDlJ3Fk945m\n",
       "3        4 2017-01-01  5knuzwU65gJK7IF5yJsuaW\n",
       "4        5 2017-01-01  1xznGGDReH1oQq0xzbwXa3"
      ]
     },
     "execution_count": 8,
     "metadata": {},
     "output_type": "execute_result"
    }
   ],
   "source": [
    "global_top_200_daily = pd.DataFrame(global_daily_charts)\n",
    "global_top_200_daily.rename(columns = {'Unnamed: 0':'Position', \n",
    "                                'Unnamed: 1': 'Track Name', \n",
    "                                'Unnamed: 2':'Artist', \n",
    "                                'Note that these figures are generated using a formula that protects against any artificial inflation of chart positions.':'Streams', \n",
    "                                'Unnamed: 4':'URL'}, inplace = True)\n",
    "\n",
    "global_top_200_daily.drop(0, inplace = True)\n",
    "global_top_200_daily.rename(columns = {'Track Name':'Track'}, inplace = True)\n",
    "\n",
    "global_top_200_daily['ID'] = global_top_200_daily['URL'].str.split('/', expand = True)[4]\n",
    "\n",
    "global_top_200_daily.reset_index(inplace = True)\n",
    "\n",
    "# top 200 db export\n",
    "global_top_200_daily.to_csv('global_top_200_daily.csv')\n",
    "global_top_200_db = global_top_200_daily[['Position', 'date', 'ID']]\n",
    "global_top_200_db.head()"
   ]
  },
  {
   "cell_type": "markdown",
   "metadata": {},
   "source": [
    "## Viral 50 Daily"
   ]
  },
  {
   "cell_type": "code",
   "execution_count": 10,
   "metadata": {},
   "outputs": [
    {
     "name": "stderr",
     "output_type": "stream",
     "text": [
      " 20%|███████████████▌                                                                | 154/789 [04:27<18:13,  1.72s/it]"
     ]
    },
    {
     "name": "stdout",
     "output_type": "stream",
     "text": [
      "<_io.StringIO object at 0x0000021F02FB69D8>\n"
     ]
    },
    {
     "name": "stderr",
     "output_type": "stream",
     "text": [
      " 26%|████████████████████▌                                                           | 203/789 [06:06<17:40,  1.81s/it]"
     ]
    },
    {
     "name": "stdout",
     "output_type": "stream",
     "text": [
      "<_io.StringIO object at 0x0000021F0740C9D8>\n"
     ]
    },
    {
     "name": "stderr",
     "output_type": "stream",
     "text": [
      " 94%|███████████████████████████████████████████████████████████████████████████▎    | 743/789 [22:34<01:19,  1.72s/it]"
     ]
    },
    {
     "name": "stdout",
     "output_type": "stream",
     "text": [
      "<_io.StringIO object at 0x0000021F02FB69D8>\n"
     ]
    },
    {
     "name": "stderr",
     "output_type": "stream",
     "text": [
      " 94%|███████████████████████████████████████████████████████████████████████████▍    | 744/789 [22:34<01:00,  1.35s/it]"
     ]
    },
    {
     "name": "stdout",
     "output_type": "stream",
     "text": [
      "<_io.StringIO object at 0x0000021F07408318>\n"
     ]
    },
    {
     "name": "stderr",
     "output_type": "stream",
     "text": [
      "100%|████████████████████████████████████████████████████████████████████████████████| 789/789 [23:51<00:00,  1.72s/it]\n"
     ]
    }
   ],
   "source": [
    "viral_charts = charts.get_charts('2017-01-01', '2019-02-28', chart = 'viral', freq = 'daily', region = 'us')"
   ]
  },
  {
   "cell_type": "code",
   "execution_count": 52,
   "metadata": {},
   "outputs": [
    {
     "data": {
      "text/html": [
       "<div>\n",
       "<style scoped>\n",
       "    .dataframe tbody tr th:only-of-type {\n",
       "        vertical-align: middle;\n",
       "    }\n",
       "\n",
       "    .dataframe tbody tr th {\n",
       "        vertical-align: top;\n",
       "    }\n",
       "\n",
       "    .dataframe thead th {\n",
       "        text-align: right;\n",
       "    }\n",
       "</style>\n",
       "<table border=\"1\" class=\"dataframe\">\n",
       "  <thead>\n",
       "    <tr style=\"text-align: right;\">\n",
       "      <th></th>\n",
       "      <th>Position</th>\n",
       "      <th>Track Name</th>\n",
       "      <th>Artist</th>\n",
       "      <th>URL</th>\n",
       "      <th>date</th>\n",
       "    </tr>\n",
       "  </thead>\n",
       "  <tbody>\n",
       "    <tr>\n",
       "      <th>0</th>\n",
       "      <td>1</td>\n",
       "      <td>Fill Me In - AFTR:HRS Mixcut</td>\n",
       "      <td>Loud Luxury</td>\n",
       "      <td>https://open.spotify.com/track/1Th5b8AsauED9F7...</td>\n",
       "      <td>2017-01-01</td>\n",
       "    </tr>\n",
       "    <tr>\n",
       "      <th>1</th>\n",
       "      <td>2</td>\n",
       "      <td>Freedom! '90</td>\n",
       "      <td>George Michael</td>\n",
       "      <td>https://open.spotify.com/track/1D6nV9TPfMnWm7U...</td>\n",
       "      <td>2017-01-01</td>\n",
       "    </tr>\n",
       "    <tr>\n",
       "      <th>2</th>\n",
       "      <td>3</td>\n",
       "      <td>You</td>\n",
       "      <td>Manwolves</td>\n",
       "      <td>https://open.spotify.com/track/6F7CjVIrwk7PddQ...</td>\n",
       "      <td>2017-01-01</td>\n",
       "    </tr>\n",
       "    <tr>\n",
       "      <th>3</th>\n",
       "      <td>4</td>\n",
       "      <td>Faith - Remastered</td>\n",
       "      <td>George Michael</td>\n",
       "      <td>https://open.spotify.com/track/0HEmnAUT8PHznIA...</td>\n",
       "      <td>2017-01-01</td>\n",
       "    </tr>\n",
       "    <tr>\n",
       "      <th>4</th>\n",
       "      <td>5</td>\n",
       "      <td>Father Figure - Remastered</td>\n",
       "      <td>George Michael</td>\n",
       "      <td>https://open.spotify.com/track/0L0T4tMAaGqLgIV...</td>\n",
       "      <td>2017-01-01</td>\n",
       "    </tr>\n",
       "  </tbody>\n",
       "</table>\n",
       "</div>"
      ],
      "text/plain": [
       "   Position                    Track Name          Artist  \\\n",
       "0         1  Fill Me In - AFTR:HRS Mixcut     Loud Luxury   \n",
       "1         2                  Freedom! '90  George Michael   \n",
       "2         3                           You       Manwolves   \n",
       "3         4            Faith - Remastered  George Michael   \n",
       "4         5    Father Figure - Remastered  George Michael   \n",
       "\n",
       "                                                 URL       date  \n",
       "0  https://open.spotify.com/track/1Th5b8AsauED9F7... 2017-01-01  \n",
       "1  https://open.spotify.com/track/1D6nV9TPfMnWm7U... 2017-01-01  \n",
       "2  https://open.spotify.com/track/6F7CjVIrwk7PddQ... 2017-01-01  \n",
       "3  https://open.spotify.com/track/0HEmnAUT8PHznIA... 2017-01-01  \n",
       "4  https://open.spotify.com/track/0L0T4tMAaGqLgIV... 2017-01-01  "
      ]
     },
     "execution_count": 52,
     "metadata": {},
     "output_type": "execute_result"
    }
   ],
   "source": [
    "viral_50_daily = pd.DataFrame(viral_charts)\n",
    "viral_50_daily.head()"
   ]
  },
  {
   "cell_type": "code",
   "execution_count": 53,
   "metadata": {},
   "outputs": [
    {
     "data": {
      "text/html": [
       "<div>\n",
       "<style scoped>\n",
       "    .dataframe tbody tr th:only-of-type {\n",
       "        vertical-align: middle;\n",
       "    }\n",
       "\n",
       "    .dataframe tbody tr th {\n",
       "        vertical-align: top;\n",
       "    }\n",
       "\n",
       "    .dataframe thead th {\n",
       "        text-align: right;\n",
       "    }\n",
       "</style>\n",
       "<table border=\"1\" class=\"dataframe\">\n",
       "  <thead>\n",
       "    <tr style=\"text-align: right;\">\n",
       "      <th></th>\n",
       "      <th>Position</th>\n",
       "      <th>date</th>\n",
       "      <th>ID</th>\n",
       "    </tr>\n",
       "  </thead>\n",
       "  <tbody>\n",
       "    <tr>\n",
       "      <th>0</th>\n",
       "      <td>1</td>\n",
       "      <td>2017-01-01</td>\n",
       "      <td>1Th5b8AsauED9F7pGv8Yxi</td>\n",
       "    </tr>\n",
       "    <tr>\n",
       "      <th>1</th>\n",
       "      <td>2</td>\n",
       "      <td>2017-01-01</td>\n",
       "      <td>1D6nV9TPfMnWm7UdVsDVfI</td>\n",
       "    </tr>\n",
       "    <tr>\n",
       "      <th>2</th>\n",
       "      <td>3</td>\n",
       "      <td>2017-01-01</td>\n",
       "      <td>6F7CjVIrwk7PddQUsoPmoo</td>\n",
       "    </tr>\n",
       "    <tr>\n",
       "      <th>3</th>\n",
       "      <td>4</td>\n",
       "      <td>2017-01-01</td>\n",
       "      <td>0HEmnAUT8PHznIAAmVXqFJ</td>\n",
       "    </tr>\n",
       "    <tr>\n",
       "      <th>4</th>\n",
       "      <td>5</td>\n",
       "      <td>2017-01-01</td>\n",
       "      <td>0L0T4tMAaGqLgIVj1MOj9t</td>\n",
       "    </tr>\n",
       "  </tbody>\n",
       "</table>\n",
       "</div>"
      ],
      "text/plain": [
       "   Position       date                      ID\n",
       "0         1 2017-01-01  1Th5b8AsauED9F7pGv8Yxi\n",
       "1         2 2017-01-01  1D6nV9TPfMnWm7UdVsDVfI\n",
       "2         3 2017-01-01  6F7CjVIrwk7PddQUsoPmoo\n",
       "3         4 2017-01-01  0HEmnAUT8PHznIAAmVXqFJ\n",
       "4         5 2017-01-01  0L0T4tMAaGqLgIVj1MOj9t"
      ]
     },
     "execution_count": 53,
     "metadata": {},
     "output_type": "execute_result"
    }
   ],
   "source": [
    "# viral_50_daily.drop(columns = 'Unnamed: 0', inplace = True)\n",
    "# top_200_weekly.rename(columns = {'Unnamed: 0':'index'}, inplace = True)\n",
    "viral_50_daily.rename(columns = {'Track Name':'Track'}, inplace = True)\n",
    "\n",
    "viral_50_daily['ID'] = viral_50_daily['URL'].str.split('/', expand = True)[4]\n",
    "\n",
    "viral_50_daily.reset_index(inplace = True)\n",
    "\n",
    "# top 200 db export\n",
    "viral_50_db = viral_50_daily[['Position', 'date', 'ID']]\n",
    "viral_50_db.head()"
   ]
  },
  {
   "cell_type": "code",
   "execution_count": 4,
   "metadata": {},
   "outputs": [
    {
     "name": "stderr",
     "output_type": "stream",
     "text": [
      " 14%|███████████▎                                                                    | 112/789 [03:23<19:04,  1.69s/it]"
     ]
    },
    {
     "name": "stdout",
     "output_type": "stream",
     "text": [
      "<_io.StringIO object at 0x000001A316BD8EE8>\n"
     ]
    },
    {
     "name": "stderr",
     "output_type": "stream",
     "text": [
      " 15%|████████████▏                                                                   | 120/789 [03:36<18:57,  1.70s/it]"
     ]
    },
    {
     "name": "stdout",
     "output_type": "stream",
     "text": [
      "<_io.StringIO object at 0x000001A316BD8EE8>\n"
     ]
    },
    {
     "name": "stderr",
     "output_type": "stream",
     "text": [
      " 17%|█████████████▉                                                                  | 137/789 [04:04<18:39,  1.72s/it]"
     ]
    },
    {
     "name": "stdout",
     "output_type": "stream",
     "text": [
      "<_io.StringIO object at 0x000001A32830B288>\n"
     ]
    },
    {
     "name": "stderr",
     "output_type": "stream",
     "text": [
      " 17%|█████████████▉                                                                  | 138/789 [04:04<14:43,  1.36s/it]"
     ]
    },
    {
     "name": "stdout",
     "output_type": "stream",
     "text": [
      "<_io.StringIO object at 0x000001A316BD8EE8>\n"
     ]
    },
    {
     "name": "stderr",
     "output_type": "stream",
     "text": [
      " 18%|██████████████                                                                  | 139/789 [04:05<11:49,  1.09s/it]"
     ]
    },
    {
     "name": "stdout",
     "output_type": "stream",
     "text": [
      "<_io.StringIO object at 0x000001A32830B288>\n"
     ]
    },
    {
     "name": "stderr",
     "output_type": "stream",
     "text": [
      " 18%|██████████████▏                                                                 | 140/789 [04:05<10:00,  1.08it/s]"
     ]
    },
    {
     "name": "stdout",
     "output_type": "stream",
     "text": [
      "<_io.StringIO object at 0x000001A316BD8EE8>\n"
     ]
    },
    {
     "name": "stderr",
     "output_type": "stream",
     "text": [
      " 18%|██████████████▎                                                                 | 141/789 [04:06<08:30,  1.27it/s]"
     ]
    },
    {
     "name": "stdout",
     "output_type": "stream",
     "text": [
      "<_io.StringIO object at 0x000001A32830B288>\n"
     ]
    },
    {
     "name": "stderr",
     "output_type": "stream",
     "text": [
      " 18%|██████████████▍                                                                 | 142/789 [04:06<07:27,  1.45it/s]"
     ]
    },
    {
     "name": "stdout",
     "output_type": "stream",
     "text": [
      "<_io.StringIO object at 0x000001A316BD8EE8>\n"
     ]
    },
    {
     "name": "stderr",
     "output_type": "stream",
     "text": [
      " 18%|██████████████▍                                                                 | 143/789 [04:07<06:43,  1.60it/s]"
     ]
    },
    {
     "name": "stdout",
     "output_type": "stream",
     "text": [
      "<_io.StringIO object at 0x000001A32830B288>\n"
     ]
    },
    {
     "name": "stderr",
     "output_type": "stream",
     "text": [
      " 18%|██████████████▌                                                                 | 144/789 [04:07<05:46,  1.86it/s]"
     ]
    },
    {
     "name": "stdout",
     "output_type": "stream",
     "text": [
      "<_io.StringIO object at 0x000001A316BD8EE8>\n"
     ]
    },
    {
     "name": "stderr",
     "output_type": "stream",
     "text": [
      " 18%|██████████████▋                                                                 | 145/789 [04:07<05:31,  1.94it/s]"
     ]
    },
    {
     "name": "stdout",
     "output_type": "stream",
     "text": [
      "<_io.StringIO object at 0x000001A32830B288>\n"
     ]
    },
    {
     "name": "stderr",
     "output_type": "stream",
     "text": [
      " 19%|██████████████▊                                                                 | 146/789 [04:08<05:39,  1.89it/s]"
     ]
    },
    {
     "name": "stdout",
     "output_type": "stream",
     "text": [
      "<_io.StringIO object at 0x000001A316BD8EE8>\n"
     ]
    },
    {
     "name": "stderr",
     "output_type": "stream",
     "text": [
      " 19%|██████████████▉                                                                 | 147/789 [04:08<05:30,  1.94it/s]"
     ]
    },
    {
     "name": "stdout",
     "output_type": "stream",
     "text": [
      "<_io.StringIO object at 0x000001A32830B288>\n"
     ]
    },
    {
     "name": "stderr",
     "output_type": "stream",
     "text": [
      " 19%|███████████████                                                                 | 148/789 [04:09<05:21,  1.99it/s]"
     ]
    },
    {
     "name": "stdout",
     "output_type": "stream",
     "text": [
      "<_io.StringIO object at 0x000001A316BD8EE8>\n"
     ]
    },
    {
     "name": "stderr",
     "output_type": "stream",
     "text": [
      " 19%|███████████████                                                                 | 149/789 [04:09<05:15,  2.03it/s]"
     ]
    },
    {
     "name": "stdout",
     "output_type": "stream",
     "text": [
      "<_io.StringIO object at 0x000001A32830B288>\n"
     ]
    },
    {
     "name": "stderr",
     "output_type": "stream",
     "text": [
      " 19%|███████████████▏                                                                | 150/789 [04:10<06:09,  1.73it/s]"
     ]
    },
    {
     "name": "stdout",
     "output_type": "stream",
     "text": [
      "<_io.StringIO object at 0x000001A316BD8EE8>\n"
     ]
    },
    {
     "name": "stderr",
     "output_type": "stream",
     "text": [
      " 19%|███████████████▎                                                                | 151/789 [04:11<05:44,  1.85it/s]"
     ]
    },
    {
     "name": "stdout",
     "output_type": "stream",
     "text": [
      "<_io.StringIO object at 0x000001A32830B288>\n"
     ]
    },
    {
     "name": "stderr",
     "output_type": "stream",
     "text": [
      " 19%|███████████████▍                                                                | 152/789 [04:11<04:58,  2.14it/s]"
     ]
    },
    {
     "name": "stdout",
     "output_type": "stream",
     "text": [
      "<_io.StringIO object at 0x000001A316BD8EE8>\n"
     ]
    },
    {
     "name": "stderr",
     "output_type": "stream",
     "text": [
      " 19%|███████████████▌                                                                | 153/789 [04:11<04:58,  2.13it/s]"
     ]
    },
    {
     "name": "stdout",
     "output_type": "stream",
     "text": [
      "<_io.StringIO object at 0x000001A32830B288>\n"
     ]
    },
    {
     "name": "stderr",
     "output_type": "stream",
     "text": [
      " 20%|███████████████▌                                                                | 154/789 [04:12<04:58,  2.13it/s]"
     ]
    },
    {
     "name": "stdout",
     "output_type": "stream",
     "text": [
      "<_io.StringIO object at 0x000001A316BD8EE8>\n"
     ]
    },
    {
     "name": "stderr",
     "output_type": "stream",
     "text": [
      " 26%|████████████████████▌                                                           | 203/789 [05:35<16:51,  1.73s/it]"
     ]
    },
    {
     "name": "stdout",
     "output_type": "stream",
     "text": [
      "<_io.StringIO object at 0x000001A32830B288>\n"
     ]
    },
    {
     "name": "stderr",
     "output_type": "stream",
     "text": [
      " 75%|███████████████████████████████████████████████████████████▉                    | 591/789 [16:49<05:50,  1.77s/it]"
     ]
    },
    {
     "name": "stdout",
     "output_type": "stream",
     "text": [
      "<_io.StringIO object at 0x000001A316BD8EE8>\n"
     ]
    },
    {
     "name": "stderr",
     "output_type": "stream",
     "text": [
      " 75%|████████████████████████████████████████████████████████████                    | 592/789 [16:50<04:38,  1.42s/it]"
     ]
    },
    {
     "name": "stdout",
     "output_type": "stream",
     "text": [
      "<_io.StringIO object at 0x000001A32827DC18>\n"
     ]
    },
    {
     "name": "stderr",
     "output_type": "stream",
     "text": [
      " 94%|███████████████████████████████████████████████████████████████████████████▎    | 743/789 [21:13<01:18,  1.70s/it]"
     ]
    },
    {
     "name": "stdout",
     "output_type": "stream",
     "text": [
      "<_io.StringIO object at 0x000001A316BD8EE8>\n"
     ]
    },
    {
     "name": "stderr",
     "output_type": "stream",
     "text": [
      " 94%|███████████████████████████████████████████████████████████████████████████▍    | 744/789 [21:13<01:01,  1.37s/it]"
     ]
    },
    {
     "name": "stdout",
     "output_type": "stream",
     "text": [
      "<_io.StringIO object at 0x000001A32827DC18>\n"
     ]
    },
    {
     "name": "stderr",
     "output_type": "stream",
     "text": [
      "100%|████████████████████████████████████████████████████████████████████████████████| 789/789 [22:32<00:00,  1.75s/it]\n"
     ]
    }
   ],
   "source": [
    "# Global\n",
    "global_viral_charts = charts.get_charts('2017-01-01', '2019-02-28', chart = 'viral', freq = 'daily', region = 'global')"
   ]
  },
  {
   "cell_type": "code",
   "execution_count": 9,
   "metadata": {},
   "outputs": [
    {
     "data": {
      "text/html": [
       "<div>\n",
       "<style scoped>\n",
       "    .dataframe tbody tr th:only-of-type {\n",
       "        vertical-align: middle;\n",
       "    }\n",
       "\n",
       "    .dataframe tbody tr th {\n",
       "        vertical-align: top;\n",
       "    }\n",
       "\n",
       "    .dataframe thead th {\n",
       "        text-align: right;\n",
       "    }\n",
       "</style>\n",
       "<table border=\"1\" class=\"dataframe\">\n",
       "  <thead>\n",
       "    <tr style=\"text-align: right;\">\n",
       "      <th></th>\n",
       "      <th>Position</th>\n",
       "      <th>date</th>\n",
       "      <th>ID</th>\n",
       "    </tr>\n",
       "  </thead>\n",
       "  <tbody>\n",
       "    <tr>\n",
       "      <th>0</th>\n",
       "      <td>1</td>\n",
       "      <td>2017-01-01</td>\n",
       "      <td>0EPxmvsG1BY5td4aTOkWBF</td>\n",
       "    </tr>\n",
       "    <tr>\n",
       "      <th>1</th>\n",
       "      <td>2</td>\n",
       "      <td>2017-01-01</td>\n",
       "      <td>4jDmJ51x1o9NZB5Nxxc7gY</td>\n",
       "    </tr>\n",
       "    <tr>\n",
       "      <th>2</th>\n",
       "      <td>3</td>\n",
       "      <td>2017-01-01</td>\n",
       "      <td>1D6nV9TPfMnWm7UdVsDVfI</td>\n",
       "    </tr>\n",
       "    <tr>\n",
       "      <th>3</th>\n",
       "      <td>4</td>\n",
       "      <td>2017-01-01</td>\n",
       "      <td>0HEmnAUT8PHznIAAmVXqFJ</td>\n",
       "    </tr>\n",
       "    <tr>\n",
       "      <th>4</th>\n",
       "      <td>5</td>\n",
       "      <td>2017-01-01</td>\n",
       "      <td>1ZgfAxHQCXLt8o1VXEHHAt</td>\n",
       "    </tr>\n",
       "  </tbody>\n",
       "</table>\n",
       "</div>"
      ],
      "text/plain": [
       "   Position       date                      ID\n",
       "0         1 2017-01-01  0EPxmvsG1BY5td4aTOkWBF\n",
       "1         2 2017-01-01  4jDmJ51x1o9NZB5Nxxc7gY\n",
       "2         3 2017-01-01  1D6nV9TPfMnWm7UdVsDVfI\n",
       "3         4 2017-01-01  0HEmnAUT8PHznIAAmVXqFJ\n",
       "4         5 2017-01-01  1ZgfAxHQCXLt8o1VXEHHAt"
      ]
     },
     "execution_count": 9,
     "metadata": {},
     "output_type": "execute_result"
    }
   ],
   "source": [
    "global_viral_50_daily = pd.DataFrame(global_viral_charts)\n",
    "\n",
    "global_viral_50_daily.rename(columns = {'Track Name':'Track'}, inplace = True)\n",
    "\n",
    "global_viral_50_daily['ID'] = global_viral_50_daily['URL'].str.split('/', expand = True)[4]\n",
    "\n",
    "global_viral_50_daily.reset_index(inplace = True)\n",
    "\n",
    "# top 200 db export\n",
    "global_viral_50_daily.to_csv('global_viral_50_daily.csv')\n",
    "global_viral_50_db = global_viral_50_daily[['Position', 'date', 'ID']]\n",
    "global_viral_50_db.head()"
   ]
  },
  {
   "cell_type": "markdown",
   "metadata": {},
   "source": [
    "## Unique Songs"
   ]
  },
  {
   "cell_type": "code",
   "execution_count": 42,
   "metadata": {},
   "outputs": [
    {
     "data": {
      "text/html": [
       "<div>\n",
       "<style scoped>\n",
       "    .dataframe tbody tr th:only-of-type {\n",
       "        vertical-align: middle;\n",
       "    }\n",
       "\n",
       "    .dataframe tbody tr th {\n",
       "        vertical-align: top;\n",
       "    }\n",
       "\n",
       "    .dataframe thead th {\n",
       "        text-align: right;\n",
       "    }\n",
       "</style>\n",
       "<table border=\"1\" class=\"dataframe\">\n",
       "  <thead>\n",
       "    <tr style=\"text-align: right;\">\n",
       "      <th></th>\n",
       "      <th>Position</th>\n",
       "      <th>date</th>\n",
       "      <th>ID</th>\n",
       "    </tr>\n",
       "  </thead>\n",
       "  <tbody>\n",
       "    <tr>\n",
       "      <th>196</th>\n",
       "      <td>196</td>\n",
       "      <td>2019-02-28</td>\n",
       "      <td>7ycWLEP1GsNjVvcjawXz3z</td>\n",
       "    </tr>\n",
       "    <tr>\n",
       "      <th>197</th>\n",
       "      <td>197</td>\n",
       "      <td>2019-02-28</td>\n",
       "      <td>0FQhAHyHGsrbSHvDURmFPn</td>\n",
       "    </tr>\n",
       "    <tr>\n",
       "      <th>198</th>\n",
       "      <td>198</td>\n",
       "      <td>2019-02-28</td>\n",
       "      <td>2cYnZNzFRFK0H7vSNxPsUq</td>\n",
       "    </tr>\n",
       "    <tr>\n",
       "      <th>199</th>\n",
       "      <td>199</td>\n",
       "      <td>2019-02-28</td>\n",
       "      <td>5Gu0PDLN4YJeW75PpBSg9p</td>\n",
       "    </tr>\n",
       "    <tr>\n",
       "      <th>200</th>\n",
       "      <td>200</td>\n",
       "      <td>2019-02-28</td>\n",
       "      <td>1zB4vmk8tFRmM9UULNzbLB</td>\n",
       "    </tr>\n",
       "  </tbody>\n",
       "</table>\n",
       "</div>"
      ],
      "text/plain": [
       "    Position       date                      ID\n",
       "196      196 2019-02-28  7ycWLEP1GsNjVvcjawXz3z\n",
       "197      197 2019-02-28  0FQhAHyHGsrbSHvDURmFPn\n",
       "198      198 2019-02-28  2cYnZNzFRFK0H7vSNxPsUq\n",
       "199      199 2019-02-28  5Gu0PDLN4YJeW75PpBSg9p\n",
       "200      200 2019-02-28  1zB4vmk8tFRmM9UULNzbLB"
      ]
     },
     "execution_count": 42,
     "metadata": {},
     "output_type": "execute_result"
    }
   ],
   "source": [
    "top_200_db.tail()"
   ]
  },
  {
   "cell_type": "code",
   "execution_count": 44,
   "metadata": {},
   "outputs": [
    {
     "data": {
      "text/html": [
       "<div>\n",
       "<style scoped>\n",
       "    .dataframe tbody tr th:only-of-type {\n",
       "        vertical-align: middle;\n",
       "    }\n",
       "\n",
       "    .dataframe tbody tr th {\n",
       "        vertical-align: top;\n",
       "    }\n",
       "\n",
       "    .dataframe thead th {\n",
       "        text-align: right;\n",
       "    }\n",
       "</style>\n",
       "<table border=\"1\" class=\"dataframe\">\n",
       "  <thead>\n",
       "    <tr style=\"text-align: right;\">\n",
       "      <th></th>\n",
       "      <th>ID</th>\n",
       "      <th>Track</th>\n",
       "      <th>Artist</th>\n",
       "    </tr>\n",
       "  </thead>\n",
       "  <tbody>\n",
       "    <tr>\n",
       "      <th>0</th>\n",
       "      <td>1Th5b8AsauED9F7pGv8Yxi</td>\n",
       "      <td>Fill Me In - AFTR:HRS Mixcut</td>\n",
       "      <td>Loud Luxury</td>\n",
       "    </tr>\n",
       "    <tr>\n",
       "      <th>1</th>\n",
       "      <td>1D6nV9TPfMnWm7UdVsDVfI</td>\n",
       "      <td>Freedom! '90</td>\n",
       "      <td>George Michael</td>\n",
       "    </tr>\n",
       "    <tr>\n",
       "      <th>2</th>\n",
       "      <td>6F7CjVIrwk7PddQUsoPmoo</td>\n",
       "      <td>You</td>\n",
       "      <td>Manwolves</td>\n",
       "    </tr>\n",
       "    <tr>\n",
       "      <th>3</th>\n",
       "      <td>0HEmnAUT8PHznIAAmVXqFJ</td>\n",
       "      <td>Faith - Remastered</td>\n",
       "      <td>George Michael</td>\n",
       "    </tr>\n",
       "    <tr>\n",
       "      <th>4</th>\n",
       "      <td>0L0T4tMAaGqLgIVj1MOj9t</td>\n",
       "      <td>Father Figure - Remastered</td>\n",
       "      <td>George Michael</td>\n",
       "    </tr>\n",
       "  </tbody>\n",
       "</table>\n",
       "</div>"
      ],
      "text/plain": [
       "                       ID                         Track          Artist\n",
       "0  1Th5b8AsauED9F7pGv8Yxi  Fill Me In - AFTR:HRS Mixcut     Loud Luxury\n",
       "1  1D6nV9TPfMnWm7UdVsDVfI                  Freedom! '90  George Michael\n",
       "2  6F7CjVIrwk7PddQUsoPmoo                           You       Manwolves\n",
       "3  0HEmnAUT8PHznIAAmVXqFJ            Faith - Remastered  George Michael\n",
       "4  0L0T4tMAaGqLgIVj1MOj9t    Father Figure - Remastered  George Michael"
      ]
     },
     "execution_count": 44,
     "metadata": {},
     "output_type": "execute_result"
    }
   ],
   "source": [
    "unique_viral = viral_50_daily.drop_duplicates('ID')[['ID', 'Track', 'Artist']]\n",
    "unique_top = top_200_daily.drop_duplicates('ID')[['ID', 'Track', 'Artist']]\n",
    "\n",
    "\n",
    "unique_songs = pd.concat([unique_viral, unique_top], ignore_index = True)\n",
    "unique_songs = unique_songs.drop_duplicates('ID')\n",
    "unique_songs.head()"
   ]
  },
  {
   "cell_type": "markdown",
   "metadata": {},
   "source": [
    "## Import to Database from CSV Files"
   ]
  },
  {
   "cell_type": "code",
   "execution_count": 27,
   "metadata": {},
   "outputs": [],
   "source": [
    "# global_top_200_daily = pd.read_csv('global_top_200_daily')\n",
    "# global_viral_50_daily = pd.read_csv('global_viral_50_daily.csv')\n",
    "# top_200_daily = pd.read_csv('top_200_daily.csv')\n",
    "# viral_50_daily = pd.read_csv('viral_50_daily.csv')"
   ]
  },
  {
   "cell_type": "code",
   "execution_count": null,
   "metadata": {},
   "outputs": [],
   "source": []
  },
  {
   "cell_type": "markdown",
   "metadata": {},
   "source": [
    "# Export Song Tables to SQL"
   ]
  },
  {
   "cell_type": "code",
   "execution_count": 2,
   "metadata": {},
   "outputs": [],
   "source": [
    "connection_string = (f\"root:{password}@localhost\")\n",
    "\n",
    "# engine = create_engine(f\"mysql://{connection_string}\")\n",
    "engine.execute(\"DROP DATABASE IF EXISTS spot_db\")\n",
    "engine.execute(\"CREATE DATABASE spot_db\")\n",
    "engine.execute(\"ALTER DATABASE spot_db CHARACTER SET = utf8mb4 COLLATE = utf8mb4_unicode_ci\")\n",
    "# engine.execute(\"ALTER TABLE indeed_resumes CONVERT TO CHARACTER SET utf8mb4 COLLATE utf8mb4_unicode_ci;\")\n",
    "engine = create_engine(f\"mysql://{connection_string}/spot_db?charset=utf8mb4\")"
   ]
  },
  {
   "cell_type": "code",
   "execution_count": 55,
   "metadata": {},
   "outputs": [],
   "source": [
    "# Top 200 Daily\n",
    "engine.execute(\"USE spot_db\")\n",
    "top_200_db.to_sql(\n",
    "    name = 'top_200_daily', con = engine,\n",
    "    if_exists = 'replace', \n",
    "    chunksize = 75)\n",
    "with engine.connect() as con:\n",
    "    con.execute('ALTER TABLE `top_200_daily` ADD PRIMARY KEY (`Index`);')"
   ]
  },
  {
   "cell_type": "code",
   "execution_count": 55,
   "metadata": {},
   "outputs": [],
   "source": []
  },
  {
   "cell_type": "code",
   "execution_count": 47,
   "metadata": {},
   "outputs": [],
   "source": [
    "# Viral 50 Daily\n",
    "engine.execute(\"USE spot_db\")\n",
    "viral_50_db.to_sql(\n",
    "    name = 'viral_50_daily', con = engine,\n",
    "    if_exists = 'replace')\n",
    "with engine.connect() as con:\n",
    "    con.execute('ALTER TABLE `viral_50_daily` ADD PRIMARY KEY (`Index`);')"
   ]
  },
  {
   "cell_type": "code",
   "execution_count": 56,
   "metadata": {},
   "outputs": [],
   "source": [
    "# Unique Songs\n",
    "engine.execute(\"USE spot_db\")\n",
    "unique_songs.to_sql(\n",
    "    name = 'songs', con = engine,\n",
    "    if_exists = 'replace', \n",
    "    dtype={'ID': types.VARCHAR(255)})\n",
    "with engine.connect() as con:\n",
    "    con.execute('ALTER TABLE `songs` ADD PRIMARY KEY (`ID`);')"
   ]
  }
 ],
 "metadata": {
  "kernelspec": {
   "display_name": "Python 3",
   "language": "python",
   "name": "python3"
  },
  "language_info": {
   "codemirror_mode": {
    "name": "ipython",
    "version": 3
   },
   "file_extension": ".py",
   "mimetype": "text/x-python",
   "name": "python",
   "nbconvert_exporter": "python",
   "pygments_lexer": "ipython3",
   "version": "3.6.5"
  }
 },
 "nbformat": 4,
 "nbformat_minor": 2
}
